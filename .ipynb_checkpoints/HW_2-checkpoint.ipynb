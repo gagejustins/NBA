{
 "cells": [
  {
   "cell_type": "code",
   "execution_count": 1,
   "metadata": {
    "collapsed": true
   },
   "outputs": [],
   "source": []
  },
  {
   "cell_type": "code",
   "execution_count": 5,
   "metadata": {
    "collapsed": false
   },
   "outputs": [
    {
     "data": {
      "text/html": [
       "<div>\n",
       "<table border=\"1\" class=\"dataframe\">\n",
       "  <thead>\n",
       "    <tr style=\"text-align: right;\">\n",
       "      <th></th>\n",
       "      <th>Rk</th>\n",
       "      <th>Team</th>\n",
       "      <th>Conf</th>\n",
       "      <th>Div</th>\n",
       "      <th>W</th>\n",
       "      <th>L</th>\n",
       "      <th>W/L%</th>\n",
       "      <th>MOV</th>\n",
       "      <th>ORtg</th>\n",
       "      <th>DRtg</th>\n",
       "      <th>NRtg</th>\n",
       "      <th>MOV/A</th>\n",
       "      <th>ORtg/A</th>\n",
       "      <th>DRtg/A</th>\n",
       "      <th>NRtg/A</th>\n",
       "    </tr>\n",
       "  </thead>\n",
       "  <tbody>\n",
       "    <tr>\n",
       "      <th>0</th>\n",
       "      <td>1</td>\n",
       "      <td>San Antonio Spurs</td>\n",
       "      <td>W</td>\n",
       "      <td>SW</td>\n",
       "      <td>67</td>\n",
       "      <td>15</td>\n",
       "      <td>0.817</td>\n",
       "      <td>10.63</td>\n",
       "      <td>111.04</td>\n",
       "      <td>99.55</td>\n",
       "      <td>11.49</td>\n",
       "      <td>10.28</td>\n",
       "      <td>110.59</td>\n",
       "      <td>99.49</td>\n",
       "      <td>11.10</td>\n",
       "    </tr>\n",
       "    <tr>\n",
       "      <th>1</th>\n",
       "      <td>2</td>\n",
       "      <td>Golden State Warriors</td>\n",
       "      <td>W</td>\n",
       "      <td>P</td>\n",
       "      <td>73</td>\n",
       "      <td>9</td>\n",
       "      <td>0.890</td>\n",
       "      <td>10.76</td>\n",
       "      <td>115.18</td>\n",
       "      <td>104.32</td>\n",
       "      <td>10.86</td>\n",
       "      <td>10.38</td>\n",
       "      <td>115.01</td>\n",
       "      <td>104.53</td>\n",
       "      <td>10.49</td>\n",
       "    </tr>\n",
       "    <tr>\n",
       "      <th>2</th>\n",
       "      <td>3</td>\n",
       "      <td>Oklahoma City Thunder</td>\n",
       "      <td>W</td>\n",
       "      <td>NW</td>\n",
       "      <td>55</td>\n",
       "      <td>27</td>\n",
       "      <td>0.671</td>\n",
       "      <td>7.28</td>\n",
       "      <td>113.76</td>\n",
       "      <td>106.22</td>\n",
       "      <td>7.54</td>\n",
       "      <td>7.09</td>\n",
       "      <td>113.64</td>\n",
       "      <td>106.29</td>\n",
       "      <td>7.35</td>\n",
       "    </tr>\n",
       "    <tr>\n",
       "      <th>3</th>\n",
       "      <td>4</td>\n",
       "      <td>Cleveland Cavaliers</td>\n",
       "      <td>E</td>\n",
       "      <td>C</td>\n",
       "      <td>57</td>\n",
       "      <td>25</td>\n",
       "      <td>0.695</td>\n",
       "      <td>5.99</td>\n",
       "      <td>111.80</td>\n",
       "      <td>105.32</td>\n",
       "      <td>6.48</td>\n",
       "      <td>5.44</td>\n",
       "      <td>111.75</td>\n",
       "      <td>105.85</td>\n",
       "      <td>5.90</td>\n",
       "    </tr>\n",
       "    <tr>\n",
       "      <th>4</th>\n",
       "      <td>5</td>\n",
       "      <td>Toronto Raptors</td>\n",
       "      <td>E</td>\n",
       "      <td>A</td>\n",
       "      <td>56</td>\n",
       "      <td>26</td>\n",
       "      <td>0.683</td>\n",
       "      <td>4.50</td>\n",
       "      <td>111.11</td>\n",
       "      <td>106.16</td>\n",
       "      <td>4.95</td>\n",
       "      <td>4.08</td>\n",
       "      <td>111.18</td>\n",
       "      <td>106.68</td>\n",
       "      <td>4.50</td>\n",
       "    </tr>\n",
       "  </tbody>\n",
       "</table>\n",
       "</div>"
      ],
      "text/plain": [
       "   Rk                   Team Conf Div   W   L   W/L%    MOV    ORtg    DRtg  \\\n",
       "0   1      San Antonio Spurs    W  SW  67  15  0.817  10.63  111.04   99.55   \n",
       "1   2  Golden State Warriors    W   P  73   9  0.890  10.76  115.18  104.32   \n",
       "2   3  Oklahoma City Thunder    W  NW  55  27  0.671   7.28  113.76  106.22   \n",
       "3   4    Cleveland Cavaliers    E   C  57  25  0.695   5.99  111.80  105.32   \n",
       "4   5        Toronto Raptors    E   A  56  26  0.683   4.50  111.11  106.16   \n",
       "\n",
       "    NRtg  MOV/A  ORtg/A  DRtg/A  NRtg/A  \n",
       "0  11.49  10.28  110.59   99.49   11.10  \n",
       "1  10.86  10.38  115.01  104.53   10.49  \n",
       "2   7.54   7.09  113.64  106.29    7.35  \n",
       "3   6.48   5.44  111.75  105.85    5.90  \n",
       "4   4.95   4.08  111.18  106.68    4.50  "
      ]
     },
     "execution_count": 5,
     "metadata": {},
     "output_type": "execute_result"
    }
   ],
   "source": []
  },
  {
   "cell_type": "markdown",
   "metadata": {},
   "source": []
  },
  {
   "cell_type": "markdown",
   "metadata": {},
   "source": []
  },
  {
   "cell_type": "code",
   "execution_count": 11,
   "metadata": {
    "collapsed": true
   },
   "outputs": [],
   "source": []
  },
  {
   "cell_type": "code",
   "execution_count": 12,
   "metadata": {
    "collapsed": false
   },
   "outputs": [
    {
     "data": {
      "text/plain": [
       "<matplotlib.collections.PathCollection at 0x1147d6350>"
      ]
     },
     "execution_count": 12,
     "metadata": {},
     "output_type": "execute_result"
    },
    {
     "data": {
      "image/png": "[encoded data removed]",
      "text/plain": [
       "<matplotlib.figure.Figure at 0x114595950>"
      ]
     },
     "metadata": {},
     "output_type": "display_data"
    }
   ],
   "source": []
  },
  {
   "cell_type": "code",
   "execution_count": 8,
   "metadata": {
    "collapsed": false
   },
   "outputs": [
    {
     "name": "stdout",
     "output_type": "stream",
     "text": [
      "The slope is: 3.7908539333\n",
      "The intercept is: -365.12934529\n",
      "The r^2 is: 0.782516342331\n",
      "The p value is: 8.86685986056e-11\n",
      "The std error is: 0.377680568553\n"
     ]
    }
   ],
   "source": []
  },
  {
   "cell_type": "markdown",
   "metadata": {},
   "source": []
  },
  {
   "cell_type": "code",
   "execution_count": 13,
   "metadata": {
    "collapsed": true
   },
   "outputs": [],
   "source": []
  },
  {
   "cell_type": "code",
   "execution_count": 14,
   "metadata": {
    "collapsed": false
   },
   "outputs": [
    {
     "data": {
      "text/plain": [
       "<matplotlib.collections.PathCollection at 0x117767050>"
      ]
     },
     "execution_count": 14,
     "metadata": {},
     "output_type": "execute_result"
    },
    {
     "data": {
      "image/png": "[encoded data removed]",
      "text/plain": [
       "<matplotlib.figure.Figure at 0x11755dbd0>"
      ]
     },
     "metadata": {},
     "output_type": "display_data"
    }
   ],
   "source": []
  },
  {
   "cell_type": "code",
   "execution_count": 10,
   "metadata": {
    "collapsed": false
   },
   "outputs": [
    {
     "name": "stdout",
     "output_type": "stream",
     "text": [
      "The slope is: -3.8186646996\n",
      "The intercept is: 450.106278151\n",
      "The r^2 is: 0.664372514061\n",
      "The p value is: 4.15180056643e-08\n",
      "The std error is: 0.512926860424\n"
     ]
    }
   ],
   "source": [
    "slope, intercept, r_value, p_value, std_error = stats.linregress(def_x, def_y)\n",
    "\n",
    "print 'The slope is:' , slope\n",
    "print 'The intercept is:' , intercept\n",
    "print 'The r^2 is:' , r_value**2\n",
    "print 'The p value is:' , p_value\n",
    "print 'The std error is:' , std_error"
   ]
  },
  {
   "cell_type": "code",
   "execution_count": null,
   "metadata": {
    "collapsed": true
   },
   "outputs": [],
   "source": []
  }
 ],
 "metadata": {
  "anaconda-cloud": {},
  "kernelspec": {
   "display_name": "Python [Root]",
   "language": "python",
   "name": "Python [Root]"
  },
  "language_info": {
   "codemirror_mode": {
    "name": "ipython",
    "version": 2
   },
   "file_extension": ".py",
   "mimetype": "text/x-python",
   "name": "python",
   "nbconvert_exporter": "python",
   "pygments_lexer": "ipython2",
   "version": "2.7.12"
  }
 },
 "nbformat": 4,
 "nbformat_minor": 0
}
