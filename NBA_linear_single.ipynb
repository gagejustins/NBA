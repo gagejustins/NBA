{
 "cells": [
  {
   "cell_type": "code",
   "execution_count": 10,
   "metadata": {
    "collapsed": true
   },
   "outputs": [],
   "source": [
    "%matplotlib inline\n",
    "import matplotlib.pyplot as plt\n",
    "import numpy as np\n",
    "from scipy import stats\n",
    "import pandas as pd\n",
    "import seaborn as sns"
   ]
  },
  {
   "cell_type": "code",
   "execution_count": 26,
   "metadata": {
    "collapsed": false
   },
   "outputs": [
    {
     "data": {
      "text/html": [
       "<div>\n",
       "<table border=\"1\" class=\"dataframe\">\n",
       "  <thead>\n",
       "    <tr style=\"text-align: right;\">\n",
       "      <th></th>\n",
       "      <th>Rk</th>\n",
       "      <th>Team</th>\n",
       "      <th>Conf</th>\n",
       "      <th>Div</th>\n",
       "      <th>W</th>\n",
       "      <th>L</th>\n",
       "      <th>W/L%</th>\n",
       "      <th>MOV</th>\n",
       "      <th>ORtg</th>\n",
       "      <th>DRtg</th>\n",
       "      <th>NRtg</th>\n",
       "      <th>MOV/A</th>\n",
       "      <th>ORtg/A</th>\n",
       "      <th>DRtg/A</th>\n",
       "      <th>NRtg/A</th>\n",
       "    </tr>\n",
       "  </thead>\n",
       "  <tbody>\n",
       "    <tr>\n",
       "      <th>25</th>\n",
       "      <td>26</td>\n",
       "      <td>Milwaukee Bucks</td>\n",
       "      <td>E</td>\n",
       "      <td>C</td>\n",
       "      <td>33</td>\n",
       "      <td>49</td>\n",
       "      <td>0.402</td>\n",
       "      <td>-4.18</td>\n",
       "      <td>105.06</td>\n",
       "      <td>109.65</td>\n",
       "      <td>-4.59</td>\n",
       "      <td>-3.98</td>\n",
       "      <td>105.32</td>\n",
       "      <td>109.69</td>\n",
       "      <td>-4.37</td>\n",
       "    </tr>\n",
       "    <tr>\n",
       "      <th>26</th>\n",
       "      <td>27</td>\n",
       "      <td>Phoenix Suns</td>\n",
       "      <td>W</td>\n",
       "      <td>P</td>\n",
       "      <td>23</td>\n",
       "      <td>59</td>\n",
       "      <td>0.280</td>\n",
       "      <td>-6.66</td>\n",
       "      <td>102.94</td>\n",
       "      <td>109.80</td>\n",
       "      <td>-6.86</td>\n",
       "      <td>-6.32</td>\n",
       "      <td>102.95</td>\n",
       "      <td>109.45</td>\n",
       "      <td>-6.50</td>\n",
       "    </tr>\n",
       "    <tr>\n",
       "      <th>27</th>\n",
       "      <td>28</td>\n",
       "      <td>Brooklyn Nets</td>\n",
       "      <td>E</td>\n",
       "      <td>A</td>\n",
       "      <td>21</td>\n",
       "      <td>61</td>\n",
       "      <td>0.256</td>\n",
       "      <td>-7.35</td>\n",
       "      <td>103.74</td>\n",
       "      <td>111.60</td>\n",
       "      <td>-7.86</td>\n",
       "      <td>-7.11</td>\n",
       "      <td>104.06</td>\n",
       "      <td>111.66</td>\n",
       "      <td>-7.61</td>\n",
       "    </tr>\n",
       "    <tr>\n",
       "      <th>28</th>\n",
       "      <td>29</td>\n",
       "      <td>Los Angeles Lakers</td>\n",
       "      <td>W</td>\n",
       "      <td>P</td>\n",
       "      <td>17</td>\n",
       "      <td>65</td>\n",
       "      <td>0.207</td>\n",
       "      <td>-9.56</td>\n",
       "      <td>102.29</td>\n",
       "      <td>112.40</td>\n",
       "      <td>-10.12</td>\n",
       "      <td>-8.92</td>\n",
       "      <td>102.49</td>\n",
       "      <td>111.92</td>\n",
       "      <td>-9.43</td>\n",
       "    </tr>\n",
       "    <tr>\n",
       "      <th>29</th>\n",
       "      <td>30</td>\n",
       "      <td>Philadelphia 76ers</td>\n",
       "      <td>E</td>\n",
       "      <td>A</td>\n",
       "      <td>10</td>\n",
       "      <td>72</td>\n",
       "      <td>0.122</td>\n",
       "      <td>-10.23</td>\n",
       "      <td>99.65</td>\n",
       "      <td>110.15</td>\n",
       "      <td>-10.50</td>\n",
       "      <td>-9.92</td>\n",
       "      <td>99.83</td>\n",
       "      <td>110.01</td>\n",
       "      <td>-10.18</td>\n",
       "    </tr>\n",
       "  </tbody>\n",
       "</table>\n",
       "</div>"
      ],
      "text/plain": [
       "    Rk                Team Conf Div   W   L   W/L%    MOV    ORtg    DRtg  \\\n",
       "25  26     Milwaukee Bucks    E   C  33  49  0.402  -4.18  105.06  109.65   \n",
       "26  27        Phoenix Suns    W   P  23  59  0.280  -6.66  102.94  109.80   \n",
       "27  28       Brooklyn Nets    E   A  21  61  0.256  -7.35  103.74  111.60   \n",
       "28  29  Los Angeles Lakers    W   P  17  65  0.207  -9.56  102.29  112.40   \n",
       "29  30  Philadelphia 76ers    E   A  10  72  0.122 -10.23   99.65  110.15   \n",
       "\n",
       "     NRtg  MOV/A  ORtg/A  DRtg/A  NRtg/A  \n",
       "25  -4.59  -3.98  105.32  109.69   -4.37  \n",
       "26  -6.86  -6.32  102.95  109.45   -6.50  \n",
       "27  -7.86  -7.11  104.06  111.66   -7.61  \n",
       "28 -10.12  -8.92  102.49  111.92   -9.43  \n",
       "29 -10.50  -9.92   99.83  110.01  -10.18  "
      ]
     },
     "execution_count": 26,
     "metadata": {},
     "output_type": "execute_result"
    }
   ],
   "source": [
    "#Import data\n",
    "\n",
    "df = pd.read_csv('teams.csv')\n",
    "df.tail()"
   ]
  },
  {
   "cell_type": "markdown",
   "metadata": {},
   "source": [
    "### Offense vs. defense – which matters more? "
   ]
  },
  {
   "cell_type": "markdown",
   "metadata": {},
   "source": [
    "First: offensive rating."
   ]
  },
  {
   "cell_type": "code",
   "execution_count": 12,
   "metadata": {
    "collapsed": false
   },
   "outputs": [],
   "source": [
    "off_x = df['ORtg']\n",
    "off_y = df['W']"
   ]
  },
  {
   "cell_type": "code",
   "execution_count": 13,
   "metadata": {
    "collapsed": false
   },
   "outputs": [
    {
     "data": {
      "text/plain": [
       "<matplotlib.collections.PathCollection at 0x117496ad0>"
      ]
     },
     "execution_count": 13,
     "metadata": {},
     "output_type": "execute_result"
    },
    {
     "data": {
      "image/png": "[encoded data removed]",
      "text/plain": [
       "<matplotlib.figure.Figure at 0x114498410>"
      ]
     },
     "metadata": {},
     "output_type": "display_data"
    }
   ],
   "source": [
    "plt.scatter(off_x, off_y)"
   ]
  },
  {
   "cell_type": "code",
   "execution_count": 14,
   "metadata": {
    "collapsed": false
   },
   "outputs": [
    {
     "name": "stdout",
     "output_type": "stream",
     "text": [
      "The slope is: 3.7908539333\n",
      "The intercept is: -365.12934529\n",
      "The r^2 is: 0.782516342331\n",
      "The p value is: 8.86685986056e-11\n",
      "The std error is: 0.377680568553\n"
     ]
    }
   ],
   "source": [
    "slope, intercept, r_value, p_value, std_error = stats.linregress(off_x, off_y)\n",
    "\n",
    "print 'The slope is:' , slope\n",
    "print 'The intercept is:' , intercept\n",
    "print 'The r^2 is:' , r_value**2\n",
    "print 'The p value is:' , p_value\n",
    "print 'The std error is:' , std_error"
   ]
  },
  {
   "cell_type": "markdown",
   "metadata": {},
   "source": [
    "Second: defensive rating."
   ]
  },
  {
   "cell_type": "code",
   "execution_count": 15,
   "metadata": {
    "collapsed": false
   },
   "outputs": [],
   "source": [
    "def_x = df['DRtg']\n",
    "def_y = df['W']"
   ]
  },
  {
   "cell_type": "code",
   "execution_count": 19,
   "metadata": {
    "collapsed": false
   },
   "outputs": [
    {
     "data": {
      "text/plain": [
       "<matplotlib.text.Text at 0x117a68350>"
      ]
     },
     "execution_count": 19,
     "metadata": {},
     "output_type": "execute_result"
    },
    {
     "data": {
      "image/png": "[encoded data removed]",
      "text/plain": [
       "<matplotlib.figure.Figure at 0x117c10790>"
      ]
     },
     "metadata": {},
     "output_type": "display_data"
    }
   ],
   "source": [
    "plt.scatter(def_x, def_y)\n",
    "plt.xlabel('Defensive Rating')\n",
    "plt.ylabel('Wins')"
   ]
  },
  {
   "cell_type": "code",
   "execution_count": 18,
   "metadata": {
    "collapsed": false
   },
   "outputs": [
    {
     "name": "stdout",
     "output_type": "stream",
     "text": [
      "The slope is: -3.8186646996\n",
      "The intercept is: 450.106278151\n",
      "The r^2 is: 0.664372514061\n",
      "The p value is: 4.15180056643e-08\n",
      "The std error is: 0.512926860424\n"
     ]
    }
   ],
   "source": [
    "slope, intercept, r_value, p_value, std_error = stats.linregress(def_x, def_y)\n",
    "\n",
    "print 'The slope is:' , slope\n",
    "print 'The intercept is:' , intercept\n",
    "print 'The r^2 is:' , r_value**2\n",
    "print 'The p value is:' , p_value\n",
    "print 'The std error is:' , std_error"
   ]
  },
  {
   "cell_type": "markdown",
   "metadata": {},
   "source": [
    "Both of these regressions are statistically significant, and show that a better rating means more wins (just that a better rating in defense is a lower number, so the correlation is negative)."
   ]
  },
  {
   "cell_type": "markdown",
   "metadata": {},
   "source": [
    "Let's draw a residual plot for defensive rating to make sure we chose the right model."
   ]
  },
  {
   "cell_type": "code",
   "execution_count": 25,
   "metadata": {
    "collapsed": false
   },
   "outputs": [
    {
     "data": {
      "text/plain": [
       "<matplotlib.text.Text at 0x11816bf90>"
      ]
     },
     "execution_count": 25,
     "metadata": {},
     "output_type": "execute_result"
    },
    {
     "data": {
      "image/png": "[encoded data removed]",
      "text/plain": [
       "<matplotlib.figure.Figure at 0x118300850>"
      ]
     },
     "metadata": {},
     "output_type": "display_data"
    }
   ],
   "source": [
    "sns.residplot(x=def_x, y=def_y)\n",
    "plt.xlabel('Defensive Rating')\n",
    "plt.ylabel('Wins Residual')"
   ]
  },
  {
   "cell_type": "code",
   "execution_count": 24,
   "metadata": {
    "collapsed": false
   },
   "outputs": [
    {
     "data": {
      "text/plain": [
       "<matplotlib.text.Text at 0x118163c10>"
      ]
     },
     "execution_count": 24,
     "metadata": {},
     "output_type": "execute_result"
    },
    {
     "data": {
      "image/png": "[encoded data removed]",
      "text/plain": [
       "<matplotlib.figure.Figure at 0x117e8e410>"
      ]
     },
     "metadata": {},
     "output_type": "display_data"
    }
   ],
   "source": [
    "sns.regplot(x=def_x, y=def_y)\n",
    "plt.xlabel('Defensive Rating')\n",
    "plt.ylabel('Wins')"
   ]
  },
  {
   "cell_type": "markdown",
   "metadata": {},
   "source": [
    "### Removing the two major outliers"
   ]
  },
  {
   "cell_type": "markdown",
   "metadata": {},
   "source": [
    "The Warriors and the 76ers."
   ]
  },
  {
   "cell_type": "code",
   "execution_count": 28,
   "metadata": {
    "collapsed": false
   },
   "outputs": [],
   "source": [
    "no_outliers = df[df['Team'] != 'Golden State Warriors']\n",
    "no_outliers = no_outliers[no_outliers['Team'] != 'Philadelphia 76ers']"
   ]
  },
  {
   "cell_type": "markdown",
   "metadata": {},
   "source": [
    "Rerun the regression."
   ]
  },
  {
   "cell_type": "code",
   "execution_count": 34,
   "metadata": {
    "collapsed": true
   },
   "outputs": [],
   "source": [
    "x = no_outliers['DRtg']\n",
    "y = no_outliers['W']"
   ]
  },
  {
   "cell_type": "code",
   "execution_count": 35,
   "metadata": {
    "collapsed": false
   },
   "outputs": [
    {
     "data": {
      "text/plain": [
       "<matplotlib.text.Text at 0x11911df10>"
      ]
     },
     "execution_count": 35,
     "metadata": {},
     "output_type": "execute_result"
    },
    {
     "data": {
      "image/png": "[encoded data removed]",
      "text/plain": [
       "<matplotlib.figure.Figure at 0x1191cae50>"
      ]
     },
     "metadata": {},
     "output_type": "display_data"
    }
   ],
   "source": [
    "plt.scatter(x, y)\n",
    "plt.xlabel('Defensive Rating')\n",
    "plt.ylabel('Wins')"
   ]
  },
  {
   "cell_type": "code",
   "execution_count": 36,
   "metadata": {
    "collapsed": false
   },
   "outputs": [
    {
     "name": "stdout",
     "output_type": "stream",
     "text": [
      "The slope is: -3.31983418493\n",
      "The intercept is: 396.605079741\n",
      "The r^2 is: 0.726607867612\n",
      "The p value is: 8.55424058126e-09\n",
      "The std error is: 0.399367460607\n"
     ]
    }
   ],
   "source": [
    "slope, intercept, r_value, p_value, std_error = stats.linregress(x, y)\n",
    "\n",
    "print 'The slope is:' , slope\n",
    "print 'The intercept is:' , intercept\n",
    "print 'The r^2 is:' , r_value**2\n",
    "print 'The p value is:' , p_value\n",
    "print 'The std error is:' , std_error"
   ]
  },
  {
   "cell_type": "markdown",
   "metadata": {},
   "source": [
    "Removing the two outliers decreased the slope by .5, increased the R^2 by 6%, lowered the P value, and lowered the standard error by .1."
   ]
  },
  {
   "cell_type": "code",
   "execution_count": 40,
   "metadata": {
    "collapsed": false
   },
   "outputs": [
    {
     "data": {
      "text/plain": [
       "<matplotlib.text.Text at 0x11960d090>"
      ]
     },
     "execution_count": 40,
     "metadata": {},
     "output_type": "execute_result"
    },
    {
     "data": {
      "image/png": "[encoded data removed]",
      "text/plain": [
       "<matplotlib.figure.Figure at 0x119726b90>"
      ]
     },
     "metadata": {},
     "output_type": "display_data"
    }
   ],
   "source": [
    "sns.regplot(x=x, y=y)\n",
    "plt.xlabel('Defensive Rating')\n",
    "plt.ylabel('Wins')"
   ]
  },
  {
   "cell_type": "code",
   "execution_count": 41,
   "metadata": {
    "collapsed": false
   },
   "outputs": [
    {
     "data": {
      "text/plain": [
       "<matplotlib.text.Text at 0x11906c950>"
      ]
     },
     "execution_count": 41,
     "metadata": {},
     "output_type": "execute_result"
    },
    {
     "data": {
      "image/png": "[encoded data removed]",
      "text/plain": [
       "<matplotlib.figure.Figure at 0x1197d3090>"
      ]
     },
     "metadata": {},
     "output_type": "display_data"
    }
   ],
   "source": [
    "sns.residplot(x=x, y=y)\n",
    "plt.xlabel('Defensive Rating')\n",
    "plt.ylabel('Wins')"
   ]
  },
  {
   "cell_type": "code",
   "execution_count": null,
   "metadata": {
    "collapsed": true
   },
   "outputs": [],
   "source": []
  }
 ],
 "metadata": {
  "anaconda-cloud": {},
  "kernelspec": {
   "display_name": "Python [Root]",
   "language": "python",
   "name": "Python [Root]"
  },
  "language_info": {
   "codemirror_mode": {
    "name": "ipython",
    "version": 2
   },
   "file_extension": ".py",
   "mimetype": "text/x-python",
   "name": "python",
   "nbconvert_exporter": "python",
   "pygments_lexer": "ipython2",
   "version": "2.7.12"
  }
 },
 "nbformat": 4,
 "nbformat_minor": 0
}
